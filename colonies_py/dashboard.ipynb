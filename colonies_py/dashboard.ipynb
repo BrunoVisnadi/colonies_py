{
 "cells": [
  {
   "cell_type": "code",
   "execution_count": 1,
   "id": "ffe0c71c",
   "metadata": {},
   "outputs": [],
   "source": [
    "from structure import World\n",
    "import pandas as pd\n",
    "import numpy as np\n",
    "from streamz.dataframe import PeriodicDataFrame\n",
    "from time import sleep\n",
    "from IPython.display import display\n",
    "import ipywidgets as widgets\n",
    "from threading import Thread\n",
    "from ipywidgets import interact"
   ]
  },
  {
   "cell_type": "code",
   "execution_count": 2,
   "id": "05905ea7",
   "metadata": {},
   "outputs": [],
   "source": [
    "def get_global_report(results):\n",
    "    report = pd.DataFrame({'n_colonies': [0 for _ in range(n_worlds+1)],\n",
    "                           'n_ants': [0 for _ in range(n_worlds+1)], \n",
    "                           'n_ants_with_food': [0 for _ in range(n_worlds+1)], \n",
    "                           'n_food_in_colonies': [0 for _ in range(n_worlds+1)], \n",
    "                           'n_food_in_foods': [0 for _ in range(n_worlds+1)]},\n",
    "                           index=pd.Index(data=[i for i in range(n_worlds)] + ['total'], name='world'))\n",
    "\n",
    "    for world_num, result in enumerate(results):\n",
    "        winner, x, y, food_results, colony_results = result\n",
    "\n",
    "        for col_num, x, y, amount_of_food, ant_results, pheromone_results in colony_results:\n",
    "            report['n_colonies'][world_num] += 1\n",
    "            report['n_food_in_colonies'][world_num] += amount_of_food\n",
    "\n",
    "            for ant_num, x, y, old_x, old_y, has_food, punctuation in ant_results:\n",
    "                report['n_ants'][world_num] += 1\n",
    "\n",
    "                if has_food:\n",
    "                    report['n_ants_with_food'][world_num] += 1\n",
    "\n",
    "        for num, x, y, amount, inside, limit in food_results:\n",
    "            report['n_food_in_foods'][world_num] += amount\n",
    "            \n",
    "    report.loc['total'] = report.iloc[:n_worlds].sum(axis=0)\n",
    "    \n",
    "    return report"
   ]
  },
  {
   "cell_type": "code",
   "execution_count": 3,
   "id": "4ecf083a",
   "metadata": {},
   "outputs": [],
   "source": [
    "def get_world_report(result):\n",
    "    winner, x, y, food_results, colony_results = result\n",
    "\n",
    "    n_colonies = len(colony_results)\n",
    "    report = pd.DataFrame({'n_ants': [0 for _ in range(n_colonies+1)],\n",
    "                           'n_food': [0 for _ in range(n_colonies+1)]},\n",
    "                           index=pd.Index(data=[i for i in range(n_colonies)] + ['total'], name='colony'))\n",
    "\n",
    "    for col_num, x, y, amount_of_food, ant_results, pheromone_results in colony_results:\n",
    "        for ant_num, x, y, old_x, old_y, has_food, punctuation in ant_results:\n",
    "            report['n_ants'][col_num] += 1\n",
    "\n",
    "        report['n_food'][col_num] = amount_of_food\n",
    "\n",
    "    report.loc['total'] = report.iloc[:n_colonies].sum(axis=0)\n",
    "    \n",
    "    return report"
   ]
  },
  {
   "cell_type": "code",
   "execution_count": 4,
   "id": "faa944a0",
   "metadata": {},
   "outputs": [],
   "source": [
    "sleeptime = 0.5\n",
    "n_worlds = 5\n",
    "report_type = 'Global'"
   ]
  },
  {
   "cell_type": "code",
   "execution_count": 5,
   "id": "4a874f35",
   "metadata": {},
   "outputs": [],
   "source": [
    "report = pd.DataFrame()\n",
    "view = PeriodicDataFrame(lambda **kwargs: report, interval=sleeptime)"
   ]
  },
  {
   "cell_type": "code",
   "execution_count": 6,
   "id": "8ef930f1",
   "metadata": {},
   "outputs": [],
   "source": [
    "widget = widgets.Dropdown(\n",
    "    options=['Global'] + [f'World {i}' for i in range(n_worlds)],\n",
    "    value='Global',\n",
    "    description='View'\n",
    ")\n",
    "\n",
    "def on_change(change):\n",
    "    global report_type\n",
    "    \n",
    "    if change['type'] == 'change' and change['name'] == 'value':\n",
    "        report_type = change['new']\n",
    "\n",
    "widget.observe(on_change)\n",
    "    \n",
    "def display_widget():\n",
    "    display(widget)\n",
    "    display(view)"
   ]
  },
  {
   "cell_type": "code",
   "execution_count": 7,
   "id": "868f1d17",
   "metadata": {
    "scrolled": true
   },
   "outputs": [],
   "source": [
    "def run_worlds(n=1000):\n",
    "    global report, report_type\n",
    "    \n",
    "    worlds = [World(1000) for _ in range(n_worlds)]\n",
    "\n",
    "    for _ in range(n):\n",
    "        results = [world.update() for world in worlds]\n",
    "\n",
    "        if report_type == 'Global':\n",
    "            report = get_global_report(results)\n",
    "        else:\n",
    "            report = get_world_report(results[int(report_type.split()[1])])\n",
    "\n",
    "        sleep(sleeptime)"
   ]
  },
  {
   "cell_type": "code",
   "execution_count": 8,
   "id": "8e8f119c",
   "metadata": {
    "scrolled": false
   },
   "outputs": [
    {
     "data": {
      "application/vnd.jupyter.widget-view+json": {
       "model_id": "3fb85e00844d4e1ca17a9547f13a601c",
       "version_major": 2,
       "version_minor": 0
      },
      "text/plain": [
       "Dropdown(description='View', options=('Global', 'World 0', 'World 1', 'World 2', 'World 3', 'World 4'), value=…"
      ]
     },
     "metadata": {},
     "output_type": "display_data"
    },
    {
     "data": {
      "application/vnd.jupyter.widget-view+json": {
       "model_id": "f1658e93948f47f1a62a9f8041928ad5",
       "version_major": 2,
       "version_minor": 0
      },
      "text/plain": [
       "Output()"
      ]
     },
     "metadata": {},
     "output_type": "display_data"
    }
   ],
   "source": [
    "Thread(target = run_worlds).start()\n",
    "display_widget()"
   ]
  },
  {
   "cell_type": "code",
   "execution_count": null,
   "id": "8a856a88",
   "metadata": {},
   "outputs": [],
   "source": []
  }
 ],
 "metadata": {
  "kernelspec": {
   "display_name": "Python 3 (ipykernel)",
   "language": "python",
   "name": "python3"
  },
  "language_info": {
   "codemirror_mode": {
    "name": "ipython",
    "version": 3
   },
   "file_extension": ".py",
   "mimetype": "text/x-python",
   "name": "python",
   "nbconvert_exporter": "python",
   "pygments_lexer": "ipython3",
   "version": "3.9.12"
  }
 },
 "nbformat": 4,
 "nbformat_minor": 5
}
